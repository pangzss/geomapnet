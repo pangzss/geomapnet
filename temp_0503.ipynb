{
 "cells": [
  {
   "cell_type": "code",
   "execution_count": 73,
   "metadata": {},
   "outputs": [],
   "source": [
    "import numpy as np\n",
    "import os\n",
    "import tqdm"
   ]
  },
  {
   "cell_type": "code",
   "execution_count": 65,
   "metadata": {},
   "outputs": [],
   "source": [
    "def online_embedding_stats(embedding,embedding_size=1024):\n",
    "    n = 0\n",
    "    mean = np.zeros(embedding_size)\n",
    "    for x in embedding :\n",
    "        n = n + 1\n",
    "        delta = x - mean\n",
    "        mean = mean + delta/n\n",
    "    \n",
    "    n = 0\n",
    "    cov_acc = np.zeros((embedding_size,embedding_size))\n",
    "    for x in embedding :\n",
    "        x = x[:,None]\n",
    "        n = n + 1\n",
    "        x_centered = x - mean[:,None]\n",
    "        cov_acc += x_centered @ x_centered.T\n",
    "    cov = cov_acc / (n-1)\n",
    "\n",
    "    return mean,cov"
   ]
  },
  {
   "cell_type": "code",
   "execution_count": 66,
   "metadata": {},
   "outputs": [],
   "source": [
    "data = np.random.rand(100,5)"
   ]
  },
  {
   "cell_type": "code",
   "execution_count": 67,
   "metadata": {},
   "outputs": [],
   "source": [
    "mean,cov = online_embedding_stats(data,embedding_size=5)"
   ]
  },
  {
   "cell_type": "code",
   "execution_count": 70,
   "metadata": {},
   "outputs": [
    {
     "output_type": "stream",
     "name": "stdout",
     "text": "[[ 0.00000000e+00  8.67361738e-19  6.93889390e-18 -1.73472348e-18\n  -3.46944695e-18]\n [ 8.67361738e-19  1.38777878e-17  6.93889390e-18  1.51788304e-18\n   0.00000000e+00]\n [ 6.93889390e-18  6.93889390e-18  0.00000000e+00 -4.33680869e-18\n   2.60208521e-18]\n [-1.73472348e-18  1.51788304e-18 -4.33680869e-18  1.38777878e-17\n   1.30104261e-18]\n [-3.46944695e-18  0.00000000e+00  2.60208521e-18  1.30104261e-18\n   0.00000000e+00]]\n"
    }
   ],
   "source": [
    "print(np.cov(data.T)-cov)"
   ]
  },
  {
   "cell_type": "code",
   "execution_count": 23,
   "metadata": {},
   "outputs": [
    {
     "output_type": "stream",
     "name": "stdout",
     "text": "[0.44080498 0.51492618 0.50027662 0.52692475 0.51248368] [0.27734417 0.28625556 0.26793876 0.31504591 0.28191673]\n"
    }
   ],
   "source": [
    "mean,std = online_variance(data)\n",
    "print(mean,std)"
   ]
  },
  {
   "cell_type": "code",
   "execution_count": 76,
   "metadata": {},
   "outputs": [],
   "source": [
    "def online_embedding_stats(embedding_dir,embedding_size=1024):\n",
    "    file_names = os.listdir(embedding_dir)\n",
    "    n = 0\n",
    "    mean = np.zeros(embedding_size)\n",
    "\n",
    "    for f in tqdm.tqdm(file_names,total=len(file_names)) :\n",
    "        f = os.path.join(embedding_dir,f)\n",
    "        x = np.loadtxt(f).reshape(-1)\n",
    "        n = n + 1\n",
    "        delta = x - mean\n",
    "        mean = mean + delta/n\n",
    "    \n",
    "    n = 0\n",
    "    cov_acc = np.zeros((embedding_size,embedding_size))\n",
    "\n",
    "    for f in tqdm.tqdm(file_names,total=len(file_names)) :\n",
    "        f = os.path.join(embedding_dir,f)\n",
    "        n = n + 1\n",
    "        x = np.loadtxt(f).reshape(-1)[:,None]\n",
    "        x_centered = x - mean[:,None]\n",
    "        cov_acc += x_centered @ x_centered.T\n",
    "    cov = cov_acc / (n-1)\n",
    "\n",
    "    return mean,cov"
   ]
  },
  {
   "cell_type": "code",
   "execution_count": 78,
   "metadata": {},
   "outputs": [
    {
     "output_type": "stream",
     "name": "stderr",
     "text": "100%|██████████| 23817/23817 [00:15<00:00, 1509.47it/s]\n100%|██████████| 23817/23817 [01:09<00:00, 343.29it/s]\n"
    }
   ],
   "source": [
    "mean,std = online_embedding_stats('data/style_pbn_stats_ShopFacade')"
   ]
  },
  {
   "cell_type": "code",
   "execution_count": 81,
   "metadata": {},
   "outputs": [],
   "source": [
    "np.savetxt('data/pbn_embedding_dist.txt',np.concatenate((mean[None,:],std),axis=0))"
   ]
  },
  {
   "cell_type": "code",
   "execution_count": null,
   "metadata": {},
   "outputs": [],
   "source": []
  }
 ],
 "metadata": {
  "language_info": {
   "codemirror_mode": {
    "name": "ipython",
    "version": 3
   },
   "file_extension": ".py",
   "mimetype": "text/x-python",
   "name": "python",
   "nbconvert_exporter": "python",
   "pygments_lexer": "ipython3",
   "version": "3.7.6-final"
  },
  "orig_nbformat": 2,
  "kernelspec": {
   "name": "python3",
   "display_name": "Python 3"
  }
 },
 "nbformat": 4,
 "nbformat_minor": 2
}