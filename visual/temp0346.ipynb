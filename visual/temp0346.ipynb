{
 "nbformat": 4,
 "nbformat_minor": 2,
 "metadata": {
  "language_info": {
   "name": "python",
   "codemirror_mode": {
    "name": "ipython",
    "version": 3
   },
   "version": "3.7.6-final"
  },
  "orig_nbformat": 2,
  "file_extension": ".py",
  "mimetype": "text/x-python",
  "name": "python",
  "npconvert_exporter": "python",
  "pygments_lexer": "ipython3",
  "version": 3,
  "kernelspec": {
   "name": "python3",
   "display_name": "Python 3"
  }
 },
 "cells": [
  {
   "cell_type": "code",
   "execution_count": 23,
   "metadata": {},
   "outputs": [],
   "source": [
    "import pickle"
   ]
  },
  {
   "cell_type": "code",
   "execution_count": 24,
   "metadata": {},
   "outputs": [],
   "source": [
    "with open('matched_indices.txt','rb') as f:\n",
    "    dict_ = pickle.load(f)"
   ]
  },
  {
   "cell_type": "code",
   "execution_count": 30,
   "metadata": {},
   "outputs": [
    {
     "data": {
      "text/plain": "{4: array([  0,   1,   2,   3,   4,   5,   6,   7,   8,   9,  10,  11,  12,\n         13,  14,  15,  16,  17,  18,  19,  20,  21,  22,  23,  24,  25,\n         26,  27,  28,  29,  30,  31,  32,  33,  34,  35,  36,  37,  38,\n         39,  40,  41,  42,  43,  44,  45,  46,  47,  48,  49,  50,  51,\n         52,  53,  54,  55,  56,  57,  58,  59,  60,  61,  62,  63,  64,\n         65,  66,  67,  68,  69,  70,  71,  72,  73,  74,  75,  76,  77,\n         78,  79,  80,  81,  82,  83,  84,  85,  86,  87,  88,  89,  90,\n         91,  92,  93,  94,  95,  96,  97,  98,  99, 100, 101, 102, 103,\n        104, 105, 106, 107, 108, 109, 110, 111, 112, 113, 114, 115, 116,\n         95, 118, 119, 120, 121, 122, 123, 124, 125, 126, 127]),\n 8: array([  0,  45,   2,   3,   4,   5,   6,   7,   8,   9,  74,  11,  12,\n         13,  14,  15, 117,  17,  18,  19,  20,  21,  22,  23,  24,  25,\n         26,  27,  28,  29,  30,  74,  32,  33,  34,  35,  36,  37,  38,\n         39,  40,  41,  42,  43,  44,  45,  46,  47,  48,  49,  50,  51,\n         52,  53,  54,  55,  56,  57,  58,  59,  60,  61,  62,  63,  64,\n         65,  66,  67,  68,  69,  70,  71,  72,  73,  74,  75,  76,  77,\n         78,  79,  80,  81,  82,  83,  84,  85,  86,  87,  88,  89,  90,\n         91,  92,  93,  94, 117,  96,  97,  98,  99, 100, 101, 102, 103,\n        104, 105, 106, 107, 108, 109, 110, 111, 112, 113, 114, 115, 116,\n        117, 118, 119, 120, 121, 122, 123, 124, 125, 126, 127]),\n 16: array([  0,   8,   2,   3,   5,   5,   6,   7, 116,   9,  73,  11,  87,\n         13,  14,  22,  96, 100, 127,   4,  20,  21, 116, 114,  24,  25,\n         26,   4,  28,  29,  94, 117,  32,  33,  34,  35,  36,  37,  38,\n        100,  40,  22,  42,  43,  44,   4,  46,  47,  48,  97,   4,  51,\n         52,  53, 100,  55,  96,  57,  58,  73,  70,  73,  62,  12,  64,\n         65, 113,  67,  87,  69,  99,  71,  72,  97,  84,  87, 127,  78,\n        114,  79,  78,  81,  22,  83,  73,  22,  86,  84,  88,  89,  97,\n          5,  92,  93,  75, 116,  96, 100,  78,   8,  60, 101, 102, 103,\n        104, 105,  73, 107,  84, 109, 110, 113, 112, 100, 106, 115,  74,\n        100, 118, 119, 120, 121,   5,  22, 124, 125, 126,  12])}"
     },
     "execution_count": 30,
     "metadata": {},
     "output_type": "execute_result"
    }
   ],
   "source": [
    "dict_['layer2']['block1']"
   ]
  },
  {
   "cell_type": "code",
   "execution_count": 35,
   "metadata": {},
   "outputs": [
    {
     "ename": "NameError",
     "evalue": "name 'img_filter_indices_dict' is not defined",
     "output_type": "error",
     "traceback": [
      "\u001b[0;31m---------------------------------------------------------------------------\u001b[0m",
      "\u001b[0;31mNameError\u001b[0m                                 Traceback (most recent call last)",
      "\u001b[0;32m<ipython-input-35-b851aea9cd8c>\u001b[0m in \u001b[0;36m<module>\u001b[0;34m\u001b[0m\n\u001b[1;32m     11\u001b[0m \u001b[0mmaxima_img_idces\u001b[0m \u001b[0;34m=\u001b[0m \u001b[0mimg_filter_indices\u001b[0m\u001b[0;34m[\u001b[0m\u001b[0mmaxima_h2l\u001b[0m\u001b[0;34m]\u001b[0m\u001b[0;34m[\u001b[0m\u001b[0;34m:\u001b[0m\u001b[0;34m,\u001b[0m\u001b[0;36m0\u001b[0m\u001b[0;34m]\u001b[0m\u001b[0;34m\u001b[0m\u001b[0;34m\u001b[0m\u001b[0m\n\u001b[1;32m     12\u001b[0m \u001b[0mmaxima_filter_idces\u001b[0m \u001b[0;34m=\u001b[0m \u001b[0mimg_filter_indices\u001b[0m\u001b[0;34m[\u001b[0m\u001b[0mmaxima_h2l\u001b[0m\u001b[0;34m]\u001b[0m\u001b[0;34m[\u001b[0m\u001b[0;34m:\u001b[0m\u001b[0;34m,\u001b[0m\u001b[0;36m1\u001b[0m\u001b[0;34m]\u001b[0m\u001b[0;34m\u001b[0m\u001b[0;34m\u001b[0m\u001b[0m\n\u001b[0;32m---> 13\u001b[0;31m \u001b[0mimg_filter_indices_dict\u001b[0m\u001b[0;34m[\u001b[0m\u001b[0;34m'layer'\u001b[0m\u001b[0;34m+\u001b[0m\u001b[0mstr\u001b[0m\u001b[0;34m(\u001b[0m\u001b[0mlayer\u001b[0m\u001b[0;34m)\u001b[0m\u001b[0;34m]\u001b[0m\u001b[0;34m[\u001b[0m\u001b[0;34m'block'\u001b[0m\u001b[0;34m+\u001b[0m\u001b[0mstr\u001b[0m\u001b[0;34m(\u001b[0m\u001b[0mblock\u001b[0m\u001b[0;34m)\u001b[0m\u001b[0;34m]\u001b[0m \u001b[0;34m=\u001b[0m \u001b[0mimg_filter_indices\u001b[0m\u001b[0;34m[\u001b[0m\u001b[0mmaxima_h2l\u001b[0m\u001b[0;34m]\u001b[0m\u001b[0;34m\u001b[0m\u001b[0;34m\u001b[0m\u001b[0m\n\u001b[0m",
      "\u001b[0;31mNameError\u001b[0m: name 'img_filter_indices_dict' is not defined"
     ]
    }
   ],
   "source": [
    "import torch\n",
    "import numpy as np\n",
    "topK = 8\n",
    "layer = 1\n",
    "block = 0\n",
    "filterMaxima = torch.load('figs/AachenDay_files/filter_indices_sum/filterMaxima_style0.pt')\n",
    "with open('figs/AachenDay_files/filter_indices_sum/img_dirs_style0.txt', 'rb') as fb:\n",
    "    img_dirs = pickle.load(fb)\n",
    "\n",
    "maxima_values = filterMaxima['layer'+str(layer)]['block'+str(block)][0]\n",
    "img_filter_indices = filterMaxima['layer'+str(layer)]['block'+str(block)][1]\n",
    "\n",
    "maxima_h2l = np.argsort(maxima_values)[::-1][:topK]\n",
    "maxima_img_idces = img_filter_indices[maxima_h2l][:,0]\n",
    "maxima_filter_idces = img_filter_indices[maxima_h2l][:,1]\n",
    "img_filter_indices_dict['layer'+str(layer)]['block'+str(block)] = img_filter_indices[maxima_h2l]"
   ]
  },
  {
   "cell_type": "code",
   "execution_count": 33,
   "metadata": {},
   "outputs": [
    {
     "data": {
      "text/plain": "{'layer1': {'block0': (array([3.0792193, 3.0454497, 1.6610732, ..., 0.8530142, 2.9306633,\n          3.5100827], dtype=float32),\n   array([[117.,  28.],\n          [136.,  20.],\n          [207.,  25.],\n          ...,\n          [305.,  45.],\n          [208.,  14.],\n          [ 22.,  44.]])),\n  'block1': (array([5.5975256, 3.3015804, 1.5256362, ..., 1.6683701, 3.2289991,\n          1.7460722], dtype=float32),\n   array([[224.,  53.],\n          [  7.,  53.],\n          [266.,  38.],\n          ...,\n          [ 73.,  48.],\n          [240.,   0.],\n          [311.,  59.]])),\n  'block2': (array([1.5811833, 2.209377 , 4.4838963, ..., 4.6129475, 1.7087692,\n          1.7801076], dtype=float32),\n   array([[123.,  55.],\n          [350.,  24.],\n          [ 94.,  33.],\n          ...,\n          [293.,  60.],\n          [343.,   8.],\n          [266.,  39.]]))},\n 'layer2': {'block0': (array([1.0469766, 2.2471437, 1.2303689, ..., 1.9825915, 1.9278902,\n          1.6274593], dtype=float32),\n   array([[ 74., 119.],\n          [158.,  11.],\n          [246., 113.],\n          ...,\n          [203.,  37.],\n          [143.,  97.],\n          [ 71., 114.]])),\n  'block1': (array([1.6996275, 1.7646414, 1.9951404, ..., 1.1145082, 1.4455776,\n          1.0056996], dtype=float32),\n   array([[104.,  82.],\n          [355.,  67.],\n          [273., 119.],\n          ...,\n          [ 16., 114.],\n          [129.,  19.],\n          [346.,   7.]])),\n  'block2': (array([3.2685182, 2.273754 , 1.9265091, ..., 2.5955744, 1.539035 ,\n          2.8403442], dtype=float32),\n   array([[355.,  17.],\n          [325.,  75.],\n          [325.,  94.],\n          ...,\n          [174.,   9.],\n          [ 11., 120.],\n          [ 13.,  72.]])),\n  'block3': (array([2.0653536, 1.5948516, 2.6387556, ..., 1.1313735, 2.5627995,\n          2.020586 ], dtype=float32),\n   array([[ 61., 107.],\n          [353., 114.],\n          [231.,   2.],\n          ...,\n          [111., 111.],\n          [ 35.,  57.],\n          [274., 100.]]))},\n 'layer3': {'block0': (array([1.1266605, 1.191909 , 0.8219873, ..., 1.0285559, 1.415149 ,\n          1.1386708], dtype=float32),\n   array([[309., 184.],\n          [216., 157.],\n          [270., 190.],\n          ...,\n          [110., 133.],\n          [207., 223.],\n          [164., 114.]])),\n  'block1': (array([1.155158  , 1.7681613 , 1.4067999 , ..., 1.0702118 , 1.2119479 ,\n          0.92400515], dtype=float32),\n   array([[ 84.,  20.],\n          [ 91., 189.],\n          [157., 102.],\n          ...,\n          [321.,   6.],\n          [ 42., 238.],\n          [152., 202.]])),\n  'block2': (array([1.3593894, 2.0554843, 1.4411745, ..., 0.6693538, 1.8200765,\n          1.6901844], dtype=float32),\n   array([[247.,  63.],\n          [116., 123.],\n          [250.,  65.],\n          ...,\n          [251.,  17.],\n          [  9.,  19.],\n          [210.,  20.]])),\n  'block3': (array([1.2702968 , 0.9091869 , 0.935649  , ..., 0.88421494, 0.72935694,\n          1.2741306 ], dtype=float32),\n   array([[306., 227.],\n          [ 79., 103.],\n          [353.,  29.],\n          ...,\n          [205., 114.],\n          [138., 177.],\n          [151., 165.]])),\n  'block4': (array([0.32452044, 1.0606537 , 1.7261204 , ..., 1.3854692 , 2.4001687 ,\n          0.96680385], dtype=float32),\n   array([[317., 187.],\n          [178.,  54.],\n          [333.,  11.],\n          ...,\n          [226., 101.],\n          [ 10.,  11.],\n          [207.,  50.]])),\n  'block5': (array([1.3478748 , 0.6015303 , 0.5965125 , ..., 0.95609224, 1.0174146 ,\n          0.9564561 ], dtype=float32),\n   array([[277., 133.],\n          [163.,   1.],\n          [353., 123.],\n          ...,\n          [ 47.,  17.],\n          [104.,  99.],\n          [ 69., 139.]]))},\n 'layer4': {'block0': (array([0.36722836, 0.13522887, 0.36906356, ..., 0.31778473, 0.714288  ,\n          0.36881876], dtype=float32),\n   array([[ 43., 276.],\n          [348.,  65.],\n          [159., 189.],\n          ...,\n          [166., 246.],\n          [ 90., 333.],\n          [ 14., 179.]])),\n  'block1': (array([0.00832161, 0.3118161 , 0.3503896 , ..., 0.38460952, 0.29090965,\n          0.69665915], dtype=float32),\n   array([[132.,  99.],\n          [268., 245.],\n          [230.,  42.],\n          ...,\n          [109., 300.],\n          [327., 388.],\n          [ 69., 291.]])),\n  'block2': (array([0.4773606 , 0.3894279 , 1.1064265 , ..., 0.19131592, 0.37252748,\n          1.4801875 ], dtype=float32),\n   array([[297., 387.],\n          [313., 189.],\n          [278.,  68.],\n          ...,\n          [ 87., 496.],\n          [344., 228.],\n          [280., 265.]]))}}"
     },
     "execution_count": 33,
     "metadata": {},
     "output_type": "execute_result"
    }
   ],
   "source": [
    "idces"
   ]
  },
  {
   "cell_type": "code",
   "execution_count": 44,
   "metadata": {},
   "outputs": [],
   "source": [
    "import os\n",
    "from utils import *\n",
    "import os.path as osp\n",
    "path = osp.join('data', 'AachenDay')\n",
    "img_dirs = os.listdir(path)\n",
    "num_samples = 350\n",
    "if len(img_dirs)>=num_samples:\n",
    "    rand_idces = np.random.permutation(len(img_dirs))[:num_samples]\n",
    "    img_dirs = [img_dirs[idx] for idx in rand_idces]\n",
    "img_tensor = torch.zeros(len(img_dirs),3,224,224)\n",
    "for i,name in enumerate(img_dirs):\n",
    "    img_path = osp.join(path,name)\n",
    "    img = load_image(img_path)\n",
    "    img = preprocess(img)\n",
    "    img_tensor[i] = img"
   ]
  },
  {
   "cell_type": "code",
   "execution_count": 45,
   "metadata": {},
   "outputs": [
    {
     "data": {
      "text/plain": "['2011-10-01_14-34-12_690.jpg',\n '2011-12-17_14-53-47_244.jpg',\n '2012-02-04_14-22-23_115.jpg',\n '2012-02-11_15-05-20_118.jpg',\n '2011-10-01_14-01-04_159.jpg']"
     },
     "execution_count": 45,
     "metadata": {},
     "output_type": "execute_result"
    }
   ],
   "source": [
    "img_dirs[:5]"
   ]
  },
  {
   "cell_type": "code",
   "execution_count": null,
   "metadata": {},
   "outputs": [],
   "source": []
  }
 ]
}