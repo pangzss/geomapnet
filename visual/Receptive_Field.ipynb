{
 "cells": [
  {
   "cell_type": "markdown",
   "metadata": {},
   "source": [
    "## Receptive Field\n",
    "If you have worked a little or you are somewhat familiar with Convolutional Network, you probably have heard about the term receptive field (RF). \n",
    "It is defined as the window size of input voxels that affects one particular output voxel. This hyperparameter is important since it indicates the context size that the network is using in order to compute one particular output voxel. \n",
    "There are some posts that explain more in detail about it, and how to compute it analitycally for simple architectures like AlexNet. Look [here](https://medium.com/@nikasa1889/a-guide-to-receptive-field-arithmetic-for-convolutional-neural-networks-e0f514068807) for example.\n",
    "\n",
    "To make it more clear I think is better to use a 1D image:\n",
    "\n",
    "<img src=\"RF1.png\" width=\"600\" height=\"600\" />\n",
    "\n",
    "In this image, I show an input with say 12 positions, and I will apply 2 convolutional layers (1D in this case).\n",
    "for each layer we need to define a size and a stride. Here I used a kernel size $F=3$ and a stride $s=1$.\n",
    "We can see that every position in the first output depends on 3 input positions.\n",
    "Now if we apply the second convolution, each position in the final output depends on 5 input positions!\n",
    "You can imgine that adding more layers the RF will keep increasing. \n",
    "How can we compute it?\n",
    "Well, as explained in the linked post, it is easy to compute by finding the necessary input size that produces an output of exactly one voxel. This can be computed by a recursive program which starts at the last layer by setting the output size to one and finding the necessary input size. This size will be used for the previous layer as the desired output and we keep going until the first layer. For a given convolutional (and pooling layer) we have\n",
    "\n",
    "\\begin{equation}\n",
    "O_{sz}=\\frac{I_{sz}-F}{s}+1\n",
    "\\end{equation}\n",
    "\n",
    "where $O_{sz}$ and $I_{sz}$ refer to the output and input sizes, $F$ is the filter (or kernel) size and $s$ is the stride. \n",
    "If we want to compute the RF we first set $O_{sz}=1$ and find the corresponding $I_{sz}$. In this case we would find $I_{sz}=3$. That is the RF of the last layer. Now if we keep going for the additional first layer, now setting $O_{sz}=3$ (the value we just found), we get $I_{sz}=5$.\n",
    "This is the RF of the network of the figure!\n",
    "\n",
    "We can build a simple script to compute this value\n",
    "\n",
    ".\n",
    "\n"
   ]
  },
  {
   "cell_type": "code",
   "execution_count": 4,
   "metadata": {},
   "outputs": [],
   "source": [
    "def compute_N(out,f,s):\n",
    "    return s*(out-1)+f if s>0.5 else ((out+(f-2))/2)+1#\n",
    "\n",
    "def compute_RF(layers):\n",
    "    out=1\n",
    "    for f,s in reversed(layers):\n",
    "        out=compute_N(out,f,s)\n",
    "    return out"
   ]
  },
  {
   "cell_type": "markdown",
   "metadata": {},
   "source": [
    "Here we just pass a list of tuples ($F$,$s$)\n",
    "For example "
   ]
  },
  {
   "cell_type": "code",
   "execution_count": 5,
   "metadata": {},
   "outputs": [
    {
     "data": {
      "text/plain": "35"
     },
     "execution_count": 5,
     "metadata": {},
     "output_type": "execute_result"
    }
   ],
   "source": [
    "layers=[(9,1),(3,1),(3,1),(3,1),(9,1),(3,1),(3,1),(7,1),(3,1)]\n",
    "compute_RF(layers)"
   ]
  },
  {
   "cell_type": "markdown",
   "metadata": {},
   "source": [
    "For that network we find that the RF is 35.\n",
    "\n",
    "\n",
    "But what if the network is very complicated, and it does not have a structred architecture?\n",
    "It can be really tedious to do it analitycally and sometimes just not possible.\n",
    "Turns out there is another way to compute this value numerically.\n",
    "In particular, we can use only one output channel in the last layer which we call $f=[f_1,\\dots,f_N]$. Now if we define a dummy loss function $l$ and we set its gradient with respect to $f ~\\nabla_f l$  to be zero everywhere except in a particular location $j$ which for convenience we set to 1:\n",
    "\\begin{equation}\n",
    "\\frac{\\partial l}{\\partial f_i}=\n",
    "\\begin{cases}\n",
    "    0,& \\forall i \\neq j\\\\\n",
    "    1,              & \\text{otherwise}\n",
    "\\end{cases}\n",
    "\\end{equation}\n",
    "\n",
    "If we perform backpropagation until the input $x=[x1,\\dots,x_N]$ which is equivalent to compute $\\nabla_x l$ using the chain rule, we would find that $\\frac{\\partial l}{\\partial x_i}\\neq 0$ only if $x_i$ has some effect in $f_j$ which in turn, equals to find the RF. To be more precise, we chose the position $j$ to be in the center of the image, we set the weights of the network to be a positive constant (one in our case), and the biases to zero. This is because we use ReLUs as activation functions which would set to zero any negative value. In addition, the Max-Pooling layers are changed to Average-Pooling in order to avoid sparsity in the gradients. \n",
    "\n",
    "I will show an implementation using PyTorch.\n",
    "Fisrt I implement the same CNN that I defined through the layers list. The code is fairly simple:\n"
   ]
  },
  {
   "cell_type": "code",
   "execution_count": 12,
   "metadata": {},
   "outputs": [
    {
     "output_type": "stream",
     "name": "stdout",
     "text": "analytical RF: 35\ntorch.Size([1, 1, 84, 84])\n4\n[0, 0, 42.0, 42.0]\n[4.2949673e+09 3.8654706e+10 1.9327353e+11 ... 1.9327353e+11 3.8654706e+10\n 4.2949673e+09]\nnumerical RF [35, 35]\n"
    }
   ],
   "source": [
    "import numpy as np\n",
    "import torch \n",
    "import torch.nn as nn\n",
    "from torch.autograd import Variable\n",
    "import torch.nn.init as init\n",
    "import torch.nn.functional as F\n",
    "\n",
    "def compute_RF_numerical(net,img_np):\n",
    "    '''\n",
    "    @param net: Pytorch network\n",
    "    @param img_np: numpy array to use as input to the networks, it must be full of ones and with the correct\n",
    "    shape.\n",
    "    '''\n",
    "    def weights_init(m):\n",
    "        classname = m.__class__.__name__\n",
    "        if classname.find('Conv') != -1:\n",
    "            m.weight.data.fill_(1)\n",
    "            m.bias.data.fill_(0)\n",
    "    net.apply(weights_init)\n",
    "    img_ = Variable(torch.from_numpy(img_np).float(),requires_grad=True)\n",
    "    out_cnn=net(img_)\n",
    "    out_shape=out_cnn.size()\n",
    "    print(out_shape)\n",
    "    ndims=len(out_cnn.size())\n",
    "    print(ndims)\n",
    "    grad=torch.zeros(out_cnn.size())\n",
    "    l_tmp=[]\n",
    "    for i in range(ndims):\n",
    "        if i==0 or i ==1:#batch or channel\n",
    "            l_tmp.append(0)\n",
    "        else:\n",
    "            l_tmp.append(out_shape[i]/2)\n",
    "    print(l_tmp)\n",
    "    grad[0,0,42,42]=1\n",
    "    out_cnn.backward(gradient=grad)\n",
    "    grad_np=img_.grad[0,0].data.numpy()\n",
    "    print(grad_np[grad_np!=0])\n",
    "    idx_nonzeros=np.where(grad_np!=0)\n",
    "    RF=[np.max(idx)-np.min(idx)+1 for idx in idx_nonzeros]\n",
    "    \n",
    "    return RF\n",
    "\n",
    "class CNN(nn.Module):\n",
    "    def __init__(self,layer_list):\n",
    "        #layers is a list of tuples [(f,s)]\n",
    "        super(CNN, self).__init__()\n",
    "        f_ini,s_ini=layer_list[0]\n",
    "        f_end,s_end=layer_list[-1]\n",
    "        self.layers=[]\n",
    "        self.layers.append(nn.Conv2d(1, 16, kernel_size=f_ini, padding=1,stride=s_ini,dilation=1))\n",
    "        for f,s in layer_list[1:-1]:\n",
    "            self.layers.append(nn.Conv2d(16, 16, kernel_size=f, padding=1,stride=s,dilation=1))\n",
    "            self.layers.append(nn.ReLU(inplace=True))\n",
    "        self.layers.append(nn.Conv2d(16, 1, kernel_size=f_end, padding=1,stride=s_end,dilation=1))\n",
    "        self.all_layers=nn.Sequential(*self.layers)\n",
    "        \n",
    "        \n",
    "    def forward(self, x):\n",
    "        out = self.all_layers(x)\n",
    "        return out\n",
    "\n",
    "###########################################################\n",
    "print('analytical RF:',compute_RF(layers))\n",
    "\n",
    "mycnn=CNN(layers)\n",
    "\n",
    "\n",
    "img_np=np.ones((1,1,100,100))\n",
    "print('numerical RF',compute_RF_numerical(mycnn,img_np))"
   ]
  },
  {
   "cell_type": "markdown",
   "metadata": {},
   "source": [
    "We can see that both methods find the same RF value.\n",
    "You just need to be careful when computing the RF by initializing the parameters, changing max pool layers by average pooling and switch off batchnorm and dropout. This method is general and will work even for very complicated networks. "
   ]
  },
  {
   "cell_type": "code",
   "execution_count": null,
   "metadata": {
    "collapsed": true
   },
   "outputs": [],
   "source": []
  }
 ],
 "metadata": {
  "kernelspec": {
   "display_name": "Python 3.7.6 64-bit",
   "language": "python",
   "name": "python37664bit514c6a0fe7ed4b2eb44685172323975d"
  },
  "language_info": {
   "codemirror_mode": {
    "name": "ipython",
    "version": 2
   },
   "file_extension": ".py",
   "mimetype": "text/x-python",
   "name": "python",
   "nbconvert_exporter": "python",
   "pygments_lexer": "ipython2",
   "version": "3.7.6-final"
  }
 },
 "nbformat": 4,
 "nbformat_minor": 2
}