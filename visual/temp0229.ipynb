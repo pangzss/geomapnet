{
 "nbformat": 4,
 "nbformat_minor": 2,
 "metadata": {
  "language_info": {
   "name": "python",
   "codemirror_mode": {
    "name": "ipython",
    "version": 3
   },
   "version": "3.7.6-final"
  },
  "orig_nbformat": 2,
  "file_extension": ".py",
  "mimetype": "text/x-python",
  "name": "python",
  "npconvert_exporter": "python",
  "pygments_lexer": "ipython3",
  "version": 3,
  "kernelspec": {
   "name": "python37664bit514c6a0fe7ed4b2eb44685172323975d",
   "display_name": "Python 3.7.6 64-bit"
  }
 },
 "cells": [
  {
   "cell_type": "code",
   "execution_count": 41,
   "metadata": {},
   "outputs": [],
   "source": [
    "import pickle\n",
    "\n",
    "with open('./figs/AachenDay_files/maxima_full/guidedbp/style_16_img_filter_indices_dict.txt','rb') as fp:\n",
    "        filter_dic = pickle.load(fp)\n",
    "    "
   ]
  },
  {
   "cell_type": "code",
   "execution_count": 42,
   "metadata": {},
   "outputs": [
    {
     "data": {
      "text/plain": "{'layer1': {'block0': array([[232.,   2.],\n         [218.,   2.],\n         [207.,  58.],\n         [181.,  26.],\n         [343.,  26.],\n         [356.,   2.],\n         [191.,  53.],\n         [251.,   2.]]),\n  'block1': array([[207.,  40.],\n         [138.,   2.],\n         [218.,   2.],\n         [109.,   0.],\n         [181.,  62.],\n         [170.,   6.],\n         [100.,   6.],\n         [353.,  40.]]),\n  'block2': array([[343.,  26.],\n         [181.,  26.],\n         [256.,   0.],\n         [353.,  33.],\n         [218.,   2.],\n         [ 90.,  26.],\n         [138.,   2.],\n         [ 15.,   6.]])},\n 'layer2': {'block0': array([[155.,  51.],\n         [296.,  51.],\n         [307.,  51.],\n         [281.,   2.],\n         [316., 109.],\n         [296., 109.],\n         [ 56., 109.],\n         [101., 109.]]),\n  'block1': array([[340.,  51.],\n         [218., 109.],\n         [113.,  51.],\n         [ 82.,  51.],\n         [ 91.,  51.],\n         [ 16.,  51.],\n         [193.,  51.],\n         [ 73.,  51.]]),\n  'block2': array([[ 91.,  51.],\n         [195.,  51.],\n         [181.,   2.],\n         [ 37., 115.],\n         [265.,  51.],\n         [193.,  51.],\n         [ 49.,  51.],\n         [113.,  51.]]),\n  'block3': array([[196.,   7.],\n         [207., 115.],\n         [195.,  51.],\n         [358., 115.],\n         [262., 115.],\n         [194.,  51.],\n         [ 92., 115.],\n         [316., 115.]])},\n 'layer3': {'block0': array([[105., 169.],\n         [193., 142.],\n         [265., 109.],\n         [112.,  30.],\n         [ 24.,  30.],\n         [121.,  30.],\n         [219., 142.],\n         [143., 109.]]),\n  'block1': array([[105., 169.],\n         [ 81., 169.],\n         [305., 126.],\n         [ 57., 126.],\n         [280., 126.],\n         [202., 142.],\n         [112.,  30.],\n         [ 55., 109.]]),\n  'block2': array([[232., 151.],\n         [254., 151.],\n         [ 27., 151.],\n         [  4., 151.],\n         [217., 151.],\n         [308., 151.],\n         [157., 151.],\n         [274., 126.]]),\n  'block3': array([[193., 142.],\n         [232., 196.],\n         [202., 142.],\n         [232.,  68.],\n         [270., 151.],\n         [ 79., 151.],\n         [295., 142.],\n         [180., 151.]]),\n  'block4': array([[193., 142.],\n         [ 29.,  68.],\n         [332.,  81.],\n         [119.,  95.],\n         [202., 142.],\n         [103., 195.],\n         [224., 243.],\n         [ 27., 182.]]),\n  'block5': array([[314.,  68.],\n         [ 29.,  22.],\n         [ 28.,  81.],\n         [210., 142.],\n         [286.,  81.],\n         [ 92., 101.],\n         [232.,  90.],\n         [244., 182.]])},\n 'layer4': {'block0': array([[171.,  78.],\n         [162.,  78.],\n         [298.,  78.],\n         [ 86.,  78.],\n         [ 43.,  78.],\n         [325.,  78.],\n         [ 37.,  78.],\n         [190.,  78.]]),\n  'block1': array([[337., 461.],\n         [337., 281.],\n         [ 91., 105.],\n         [339., 413.],\n         [116., 461.],\n         [ 78.,  36.],\n         [339., 506.],\n         [ 70., 281.]]),\n  'block2': array([[231.,  78.],\n         [239.,  78.],\n         [ 80.,  78.],\n         [218.,  78.],\n         [ 92.,  78.],\n         [163.,  78.],\n         [ 61.,  78.],\n         [ 52.,  78.]])}}"
     },
     "execution_count": 42,
     "metadata": {},
     "output_type": "execute_result"
    }
   ],
   "source": [
    "filter_dic"
   ]
  },
  {
   "cell_type": "code",
   "execution_count": 35,
   "metadata": {},
   "outputs": [],
   "source": [
    "import numpy as np\n",
    "feat_map_label = np.zeros((3,6,2))\n",
    "for i in range(feat_map_label.shape[0]):\n",
    "    feat_map_label[i,:,0] = i*np.ones(feat_map_label.shape[1])\n",
    "    for j in range(feat_map_label.shape[1]):\n",
    "        feat_map_label[i,j,1] = j  \n",
    "\n"
   ]
  },
  {
   "cell_type": "code",
   "execution_count": 40,
   "metadata": {},
   "outputs": [
    {
     "data": {
      "text/plain": "array([[0., 0.],\n       [0., 1.],\n       [0., 2.],\n       [0., 3.],\n       [0., 4.],\n       [0., 5.],\n       [1., 0.],\n       [1., 1.],\n       [1., 2.],\n       [1., 3.],\n       [1., 4.],\n       [1., 5.],\n       [2., 0.],\n       [2., 1.],\n       [2., 2.],\n       [2., 3.],\n       [2., 4.],\n       [2., 5.]])"
     },
     "execution_count": 40,
     "metadata": {},
     "output_type": "execute_result"
    }
   ],
   "source": [
    "feat_map_label.reshape(-1,2)"
   ]
  },
  {
   "cell_type": "code",
   "execution_count": 30,
   "metadata": {},
   "outputs": [
    {
     "data": {
      "text/plain": "array([[[-0.,  0.,  0., -2.],\n        [ 1., -0., -1., -1.],\n        [-0.,  2., -1.,  1.],\n        [ 1.,  0.,  0., -0.]],\n\n       [[-1., -0., -0., -1.],\n        [-1.,  2., -2.,  1.],\n        [-0.,  1., -1.,  2.],\n        [ 0., -0., -1.,  0.]]])"
     },
     "execution_count": 30,
     "metadata": {},
     "output_type": "execute_result"
    }
   ],
   "source": [
    "a[1]"
   ]
  },
  {
   "cell_type": "code",
   "execution_count": 31,
   "metadata": {},
   "outputs": [
    {
     "data": {
      "text/plain": "array([[-0.,  0.,  0., -2.],\n       [ 1., -0., -1., -1.],\n       [-0.,  2., -1.,  1.],\n       [ 1.,  0.,  0., -0.]])"
     },
     "execution_count": 31,
     "metadata": {},
     "output_type": "execute_result"
    }
   ],
   "source": [
    "a.reshape(-1,4,4)[2]"
   ]
  },
  {
   "cell_type": "code",
   "execution_count": null,
   "metadata": {},
   "outputs": [],
   "source": []
  }
 ]
}