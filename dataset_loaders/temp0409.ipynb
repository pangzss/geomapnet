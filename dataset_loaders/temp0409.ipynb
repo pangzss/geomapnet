{
 "nbformat": 4,
 "nbformat_minor": 2,
 "metadata": {
  "language_info": {
   "name": "python",
   "codemirror_mode": {
    "name": "ipython",
    "version": 3
   },
   "version": "3.7.6-final"
  },
  "orig_nbformat": 2,
  "file_extension": ".py",
  "mimetype": "text/x-python",
  "name": "python",
  "npconvert_exporter": "python",
  "pygments_lexer": "ipython3",
  "version": 3,
  "kernelspec": {
   "name": "python3",
   "display_name": "Python 3"
  }
 },
 "cells": [
  {
   "cell_type": "code",
   "execution_count": 3,
   "metadata": {},
   "outputs": [],
   "source": [
    "import os"
   ]
  },
  {
   "cell_type": "code",
   "execution_count": 16,
   "metadata": {},
   "outputs": [],
   "source": []
  },
  {
   "cell_type": "code",
   "execution_count": 21,
   "metadata": {
    "tags": [
     "outputPrepend"
    ]
   },
   "outputs": [],
   "source": [
    "file1 = open('../data/triplet/AllPairs.txt')\n",
    "lines = file1.readlines()\n",
    "pairs = [line.split(' ') for line in lines]"
   ]
  },
  {
   "cell_type": "code",
   "execution_count": 35,
   "metadata": {},
   "outputs": [],
   "source": [
    "pairs_dict = {}\n",
    "for pair in pairs:\n",
    "    if pair[0] not in list(pairs_dict.keys()):\n",
    "        pairs_dict[pair[0]] = []\n",
    "    pairs_dict[pair[0]].append(pair[1].strip())"
   ]
  },
  {
   "cell_type": "code",
   "execution_count": 45,
   "metadata": {},
   "outputs": [
    {
     "output_type": "execute_result",
     "data": {
      "text/plain": "('../../..', 'a')"
     },
     "metadata": {},
     "execution_count": 45
    }
   ],
   "source": [
    "os.path.split('../../../a')"
   ]
  },
  {
   "cell_type": "code",
   "execution_count": 50,
   "metadata": {},
   "outputs": [
    {
     "output_type": "execute_result",
     "data": {
      "text/plain": "{'db/1082.jpg',\n 'db/1083.jpg',\n 'db/4253.jpg',\n 'db/4254.jpg',\n 'db/4255.jpg',\n 'db/4256.jpg',\n 'db/4257.jpg',\n 'db/4285.jpg',\n 'db/4296.jpg',\n 'db/4297.jpg',\n 'db/4319.jpg',\n 'db/4320.jpg',\n 'db/4322.jpg',\n 'db/4323.jpg',\n 'db/4325.jpg',\n 'db/4326.jpg',\n 'db/4327.jpg',\n 'db/4339.jpg',\n 'db/4342.jpg',\n 'db/4388.jpg'}"
     },
     "metadata": {},
     "execution_count": 50
    }
   ],
   "source": [
    "set(pairs_dict['db/4324.jpg'])"
   ]
  },
  {
   "cell_type": "code",
   "execution_count": 53,
   "metadata": {},
   "outputs": [
    {
     "output_type": "execute_result",
     "data": {
      "text/plain": "4327"
     },
     "metadata": {},
     "execution_count": 53
    }
   ],
   "source": [
    "len(list(pairs_dict.keys()))"
   ]
  },
  {
   "cell_type": "code",
   "execution_count": null,
   "metadata": {},
   "outputs": [],
   "source": []
  }
 ]
}