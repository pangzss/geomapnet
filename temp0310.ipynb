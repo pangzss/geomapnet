{
 "nbformat": 4,
 "nbformat_minor": 2,
 "metadata": {
  "language_info": {
   "name": "python",
   "codemirror_mode": {
    "name": "ipython",
    "version": 3
   },
   "version": "3.7.6-final"
  },
  "orig_nbformat": 2,
  "file_extension": ".py",
  "mimetype": "text/x-python",
  "name": "python",
  "npconvert_exporter": "python",
  "pygments_lexer": "ipython3",
  "version": 3,
  "kernelspec": {
   "name": "python37664bit514c6a0fe7ed4b2eb44685172323975d",
   "display_name": "Python 3.7.6 64-bit"
  }
 },
 "cells": [
  {
   "cell_type": "code",
   "execution_count": null,
   "metadata": {},
   "outputs": [
    {
     "output_type": "error",
     "ename": "Error",
     "evalue": "Invalid response: 500 Internal Server Error",
     "traceback": [
      "Error: Invalid response: 500 Internal Server Error",
      "at /home/pangzs/.vscode/extensions/ms-python.python-2020.2.64397/out/client/node_modules/@jupyterlab/services.js:3:553612",
      "at async t.SessionManager.startNew (/home/pangzs/.vscode/extensions/ms-python.python-2020.2.64397/out/client/node_modules/@jupyterlab/services.js:3:545135)",
      "at async S.connect (/home/pangzs/.vscode/extensions/ms-python.python-2020.2.64397/out/client/extension.js:1:485234)",
      "at async t.JupyterSessionManager.startNew (/home/pangzs/.vscode/extensions/ms-python.python-2020.2.64397/out/client/extension.js:75:1013334)",
      "at async d.createNotebookInstance (/home/pangzs/.vscode/extensions/ms-python.python-2020.2.64397/out/client/extension.js:75:984800)",
      "at async A.ensureNotebookImpl (/home/pangzs/.vscode/extensions/ms-python.python-2020.2.64397/out/client/extension.js:1:790552)"
     ]
    }
   ],
   "source": [
    "import configparser\nimport json\nfile_name = 'scripts/configs/mapnet.ini'\nsettings = configparser.ConfigParser()\nwith open(file_name, 'r') as f:\n  settings.read_file(f)\nsection = settings['optimization']\n"
   ]
  },
  {
   "cell_type": "code",
   "execution_count": 8,
   "metadata": {},
   "outputs": [
    {
     "data": {
      "text/plain": "[('opt', 'adam'), ('lr', '1e-4'), ('weight_decay', '0.0005')]"
     },
     "execution_count": 8,
     "metadata": {},
     "output_type": "execute_result"
    }
   ],
   "source": [
    "list(section.items())"
   ]
  },
  {
   "cell_type": "code",
   "execution_count": 10,
   "metadata": {},
   "outputs": [
    {
     "data": {
      "text/plain": "1"
     },
     "execution_count": 10,
     "metadata": {},
     "output_type": "execute_result"
    }
   ],
   "source": [
    "json.loads('1') "
   ]
  },
  {
   "cell_type": "code",
   "execution_count": 6,
   "metadata": {},
   "outputs": [],
   "source": [
    "import numpy as np \n",
    "skips = np.ones(3)*10\n",
    "idx = np.insert(skips, 0, 0).cumsum()"
   ]
  },
  {
   "cell_type": "code",
   "execution_count": 7,
   "metadata": {},
   "outputs": [
    {
     "data": {
      "text/plain": "array([ 0., 10., 20., 30.])"
     },
     "execution_count": 7,
     "metadata": {},
     "output_type": "execute_result"
    }
   ],
   "source": [
    "np.maximum(idx, 0)"
   ]
  },
  {
   "cell_type": "code",
   "execution_count": 1,
   "metadata": {},
   "outputs": [
    {
     "data": {
      "text/plain": "array([1, 2, 3, 4])"
     },
     "execution_count": 1,
     "metadata": {},
     "output_type": "execute_result"
    }
   ],
   "source": [
    "import numpy as np \n",
    "a = [1,2,3,4]\n",
    "np.stack(a)"
   ]
  },
  {
   "cell_type": "code",
   "execution_count": 17,
   "metadata": {},
   "outputs": [],
   "source": [
    "import torch\n",
    "import numpy as np\n",
    "filterMaxima = torch.load('0311_filterstyle_16.pt')"
   ]
  },
  {
   "cell_type": "code",
   "execution_count": 18,
   "metadata": {},
   "outputs": [
    {
     "output_type": "stream",
     "name": "stdout",
     "text": "\\item Layer 1, Block 0  [ 2  2  2  2 58 62 53 62  2 26 53  2  2 42 53  2 58 26 53 61]\n\\item Layer 1, Block 1  [ 2 40  2  2  2 26 53  0 62 26  0  6  6  6 40  0  6  6 26 58]\n\\item Layer 1, Block 2  [26 26  2 26  2 58 26 26 53  0 62 26 26 33 26  2 26 26  2  2]\n\\item Layer 2, Block 0  [ 51  51   2  51  51   2  51  51  51  51   2 109 109   2 109  51 109 109\n 109   2]\n\\item Layer 2, Block 1  [ 51  51  51  51  51  51  51   2 109  51  51  51 109  51  51 109 109  51\n  51  51]\n\\item Layer 2, Block 2  [ 51  51  51 115  51 115  51   0   0   0  51   2   0  51   0 115   0  51\n  51   2]\n\\item Layer 2, Block 3  [115 115 115 115 115  51 115 115 115   7 115 115 115  51 115  51 115  51\n  51  51]\n\\item Layer 3, Block 0  [169 169 169 142 109 109 244  30 169 109 109 169 109 169 169 160  30 142\n 109 109]\n\\item Layer 3, Block 1  [169 142 126 169 169 126 126 126 126 126 126 109 126 169 244 142 126 109\n 126  30]\n\\item Layer 3, Block 2  [151 151 151 151 151 151 151 151 151 151 151 151 151 151 151 151 151 151\n 151 151]\n\\item Layer 3, Block 3  [142 126 196 196 151  68 126 142 151 142 151 151 151 126 151 142 169 151\n 169 126]\n\\item Layer 3, Block 4  [182 142 182 182 142 142 182  81 182  81  81 142  95 142 195  81 243 142\n 186 215]\n\\item Layer 3, Block 5  [ 68  68  68 142  68  68 142 142 243  81 142  81 142 101 195 101 215  68\n 101 142]\n\\item Layer 4, Block 0  [78 78 78 78 78 78 78 78 78 78 78 78 78 78 78 78 78 78 78 78]\n\\item Layer 4, Block 1  [461 461 105 101 461 101 461 461 461 461 461 461 461 461 461 461  23 461\n 450  65]\n\\item Layer 4, Block 2  [78 78 78 78 78 78 78 78 78 78 78 78 78 78 78 78 78 78 78 78]\n"
    }
   ],
   "source": [
    "num_blocks = [3,4,6,3]\n",
    "for layer in range(1,4+1):\n",
    "    for block in range(0,num_blocks[layer-1]):\n",
    "        maxima_values = filterMaxima['layer'+str(layer)]['block'+str(block)][0]\n",
    "        filter_indices = filterMaxima['layer'+str(layer)]['block'+str(block)][1]\n",
    "        maxima_h2l = np.argsort(maxima_values)[::-1][:20]\n",
    "        print('\\item Layer {}, Block {} '.format(layer,block),filter_indices[maxima_h2l])"
   ]
  },
  {
   "cell_type": "code",
   "execution_count": null,
   "metadata": {},
   "outputs": [],
   "source": [
    "maxima_h2l "
   ]
  }
 ]
}